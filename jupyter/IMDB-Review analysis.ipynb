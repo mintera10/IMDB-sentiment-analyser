{
 "cells": [
  {
   "cell_type": "markdown",
   "id": "29f92829-0e29-4695-8f87-db63d283f595",
   "metadata": {},
   "source": [
    "# Sentiment Analysis on IMDB movie reviews"
   ]
  },
  {
   "cell_type": "markdown",
   "id": "002f3834-7195-4963-97e9-1fdd4df39959",
   "metadata": {},
   "source": [
    "## Problem statement : The goal of this project is to build a machine learning model that can automatically classify IMDB movie reviews as positive or negative based on the text content.\n",
    "This will involve cleaning and preprocessing the text data, transforming it into numerical features, and applying various machine learning algorithms to identify the most accurate model for sentiment classification."
   ]
  },
  {
   "cell_type": "markdown",
   "id": "0651ca46-9f22-4292-a1cb-2af36daa89a0",
   "metadata": {},
   "source": [
    "## Objectives :\n",
    "1. Perform data cleaning and text preprocessing using spaCy for lemmatization and stopword removal.\n",
    "\n",
    "2. Explore and visualize sentiment distribution and common words for each sentiment category.\n",
    "\n",
    "3. Convert text into numerical representations using TF-IDF Vectorization.\n",
    "\n",
    "4. Train and evaluate multiple machine learning models.\n",
    "\n",
    "5. Compare model performances and identify the best one for this dataset."
   ]
  },
  {
   "cell_type": "markdown",
   "id": "60b04757-2cca-4327-b0fc-db655810dc60",
   "metadata": {},
   "source": [
    "## Models Used :\n",
    "1. Logistic Regression\n",
    "\n",
    "2. Naive Bayes (MultinomialNB)\n",
    "\n",
    "3. Linear Support Vector Machine (SVM)\n",
    "\n",
    "4. Random Forest Classifier"
   ]
  },
  {
   "cell_type": "markdown",
   "id": "c902df0a-4d02-4d10-9681-8cf5c0118ab9",
   "metadata": {},
   "source": [
    "## Evaluation Metrics:\n",
    "1. Accuracy – Overall percentage of correct predictions.\n",
    "\n",
    "2. Precision – Measure of how many predicted positives are actually positive.\n",
    "\n",
    "3. Recall – Measure of how many actual positives were correctly predicted.\n",
    "\n",
    "4. F1 Score – Harmonic mean of precision and recall for balanced evaluation.\n",
    "\n",
    "5. Classification Report – Detailed breakdown of metrics per class."
   ]
  },
  {
   "cell_type": "code",
   "execution_count": 70,
   "id": "ab5a99d4",
   "metadata": {},
   "outputs": [],
   "source": [
    "#importing required libraries\n",
    "import pandas as pd\n",
    "import numpy as np\n",
    "import re\n",
    "import spacy\n",
    "from bs4 import BeautifulSoup\n",
    "import seaborn as sns\n",
    "import matplotlib.pyplot as plt\n",
    "#ignore warnings\n",
    "import warnings\n",
    "warnings.filterwarnings(\"ignore\")\n",
    "#modelling\n",
    "from sklearn.model_selection import train_test_split\n",
    "from sklearn.feature_extraction.text import TfidfVectorizer\n",
    "from sklearn.linear_model import LogisticRegression\n",
    "from sklearn.naive_bayes import MultinomialNB\n",
    "from sklearn.svm import LinearSVC\n",
    "from sklearn.ensemble import RandomForestClassifier\n",
    "from sklearn.metrics import accuracy_score, precision_score, recall_score, f1_score, classification_report\n",
    "#saving\n",
    "import pickle"
   ]
  },
  {
   "cell_type": "code",
   "execution_count": 2,
   "id": "400a33bf",
   "metadata": {},
   "outputs": [],
   "source": [
    "#load the dataset\n",
    "imdb = pd.read_csv(\"C:\\\\Users\\\\aryas\\\\OneDrive\\\\Desktop\\\\imdb dataset\\\\IMDB Dataset.csv\")"
   ]
  },
  {
   "cell_type": "code",
   "execution_count": 3,
   "id": "6fe03d32",
   "metadata": {},
   "outputs": [
    {
     "data": {
      "text/html": [
       "<div>\n",
       "<style scoped>\n",
       "    .dataframe tbody tr th:only-of-type {\n",
       "        vertical-align: middle;\n",
       "    }\n",
       "\n",
       "    .dataframe tbody tr th {\n",
       "        vertical-align: top;\n",
       "    }\n",
       "\n",
       "    .dataframe thead th {\n",
       "        text-align: right;\n",
       "    }\n",
       "</style>\n",
       "<table border=\"1\" class=\"dataframe\">\n",
       "  <thead>\n",
       "    <tr style=\"text-align: right;\">\n",
       "      <th></th>\n",
       "      <th>review</th>\n",
       "      <th>sentiment</th>\n",
       "    </tr>\n",
       "  </thead>\n",
       "  <tbody>\n",
       "    <tr>\n",
       "      <th>0</th>\n",
       "      <td>One of the other reviewers has mentioned that ...</td>\n",
       "      <td>positive</td>\n",
       "    </tr>\n",
       "    <tr>\n",
       "      <th>1</th>\n",
       "      <td>A wonderful little production. &lt;br /&gt;&lt;br /&gt;The...</td>\n",
       "      <td>positive</td>\n",
       "    </tr>\n",
       "    <tr>\n",
       "      <th>2</th>\n",
       "      <td>I thought this was a wonderful way to spend ti...</td>\n",
       "      <td>positive</td>\n",
       "    </tr>\n",
       "    <tr>\n",
       "      <th>3</th>\n",
       "      <td>Basically there's a family where a little boy ...</td>\n",
       "      <td>negative</td>\n",
       "    </tr>\n",
       "    <tr>\n",
       "      <th>4</th>\n",
       "      <td>Petter Mattei's \"Love in the Time of Money\" is...</td>\n",
       "      <td>positive</td>\n",
       "    </tr>\n",
       "  </tbody>\n",
       "</table>\n",
       "</div>"
      ],
      "text/plain": [
       "                                              review sentiment\n",
       "0  One of the other reviewers has mentioned that ...  positive\n",
       "1  A wonderful little production. <br /><br />The...  positive\n",
       "2  I thought this was a wonderful way to spend ti...  positive\n",
       "3  Basically there's a family where a little boy ...  negative\n",
       "4  Petter Mattei's \"Love in the Time of Money\" is...  positive"
      ]
     },
     "execution_count": 3,
     "metadata": {},
     "output_type": "execute_result"
    }
   ],
   "source": [
    "imdb.head()"
   ]
  },
  {
   "cell_type": "code",
   "execution_count": 4,
   "id": "1717b30f",
   "metadata": {},
   "outputs": [
    {
     "name": "stdout",
     "output_type": "stream",
     "text": [
      "<class 'pandas.core.frame.DataFrame'>\n",
      "RangeIndex: 50000 entries, 0 to 49999\n",
      "Data columns (total 2 columns):\n",
      " #   Column     Non-Null Count  Dtype \n",
      "---  ------     --------------  ----- \n",
      " 0   review     50000 non-null  object\n",
      " 1   sentiment  50000 non-null  object\n",
      "dtypes: object(2)\n",
      "memory usage: 781.4+ KB\n"
     ]
    }
   ],
   "source": [
    "imdb.info()"
   ]
  },
  {
   "cell_type": "code",
   "execution_count": 5,
   "id": "e5c64b71",
   "metadata": {},
   "outputs": [
    {
     "data": {
      "text/plain": [
       "review       0\n",
       "sentiment    0\n",
       "dtype: int64"
      ]
     },
     "execution_count": 5,
     "metadata": {},
     "output_type": "execute_result"
    }
   ],
   "source": [
    "imdb.isnull().sum()"
   ]
  },
  {
   "cell_type": "code",
   "execution_count": 6,
   "id": "555989af",
   "metadata": {},
   "outputs": [
    {
     "data": {
      "text/plain": [
       "np.int64(418)"
      ]
     },
     "execution_count": 6,
     "metadata": {},
     "output_type": "execute_result"
    }
   ],
   "source": [
    "imdb.duplicated().sum()"
   ]
  },
  {
   "cell_type": "code",
   "execution_count": 7,
   "id": "07aca08a",
   "metadata": {},
   "outputs": [],
   "source": [
    "imdb.drop_duplicates(inplace=True)"
   ]
  },
  {
   "cell_type": "code",
   "execution_count": 8,
   "id": "1ebddefe",
   "metadata": {},
   "outputs": [
    {
     "data": {
      "text/plain": [
       "np.int64(0)"
      ]
     },
     "execution_count": 8,
     "metadata": {},
     "output_type": "execute_result"
    }
   ],
   "source": [
    "imdb.duplicated().sum()"
   ]
  },
  {
   "cell_type": "code",
   "execution_count": 9,
   "id": "3f62353c",
   "metadata": {},
   "outputs": [
    {
     "data": {
      "text/html": [
       "<div>\n",
       "<style scoped>\n",
       "    .dataframe tbody tr th:only-of-type {\n",
       "        vertical-align: middle;\n",
       "    }\n",
       "\n",
       "    .dataframe tbody tr th {\n",
       "        vertical-align: top;\n",
       "    }\n",
       "\n",
       "    .dataframe thead th {\n",
       "        text-align: right;\n",
       "    }\n",
       "</style>\n",
       "<table border=\"1\" class=\"dataframe\">\n",
       "  <thead>\n",
       "    <tr style=\"text-align: right;\">\n",
       "      <th></th>\n",
       "      <th>review</th>\n",
       "      <th>sentiment</th>\n",
       "    </tr>\n",
       "  </thead>\n",
       "  <tbody>\n",
       "    <tr>\n",
       "      <th>count</th>\n",
       "      <td>49582</td>\n",
       "      <td>49582</td>\n",
       "    </tr>\n",
       "    <tr>\n",
       "      <th>unique</th>\n",
       "      <td>49582</td>\n",
       "      <td>2</td>\n",
       "    </tr>\n",
       "    <tr>\n",
       "      <th>top</th>\n",
       "      <td>One of the other reviewers has mentioned that ...</td>\n",
       "      <td>positive</td>\n",
       "    </tr>\n",
       "    <tr>\n",
       "      <th>freq</th>\n",
       "      <td>1</td>\n",
       "      <td>24884</td>\n",
       "    </tr>\n",
       "  </tbody>\n",
       "</table>\n",
       "</div>"
      ],
      "text/plain": [
       "                                                   review sentiment\n",
       "count                                               49582     49582\n",
       "unique                                              49582         2\n",
       "top     One of the other reviewers has mentioned that ...  positive\n",
       "freq                                                    1     24884"
      ]
     },
     "execution_count": 9,
     "metadata": {},
     "output_type": "execute_result"
    }
   ],
   "source": [
    "imdb.describe()"
   ]
  },
  {
   "cell_type": "markdown",
   "id": "07a62687",
   "metadata": {},
   "source": [
    "### Text cleaning and normalization"
   ]
  },
  {
   "cell_type": "code",
   "execution_count": 10,
   "id": "ebff3a95",
   "metadata": {},
   "outputs": [
    {
     "data": {
      "text/html": [
       "<div>\n",
       "<style scoped>\n",
       "    .dataframe tbody tr th:only-of-type {\n",
       "        vertical-align: middle;\n",
       "    }\n",
       "\n",
       "    .dataframe tbody tr th {\n",
       "        vertical-align: top;\n",
       "    }\n",
       "\n",
       "    .dataframe thead th {\n",
       "        text-align: right;\n",
       "    }\n",
       "</style>\n",
       "<table border=\"1\" class=\"dataframe\">\n",
       "  <thead>\n",
       "    <tr style=\"text-align: right;\">\n",
       "      <th></th>\n",
       "      <th>review</th>\n",
       "      <th>sentiment</th>\n",
       "    </tr>\n",
       "  </thead>\n",
       "  <tbody>\n",
       "    <tr>\n",
       "      <th>0</th>\n",
       "      <td>One of the other reviewers has mentioned that ...</td>\n",
       "      <td>positive</td>\n",
       "    </tr>\n",
       "    <tr>\n",
       "      <th>1</th>\n",
       "      <td>A wonderful little production. &lt;br /&gt;&lt;br /&gt;The...</td>\n",
       "      <td>positive</td>\n",
       "    </tr>\n",
       "    <tr>\n",
       "      <th>2</th>\n",
       "      <td>I thought this was a wonderful way to spend ti...</td>\n",
       "      <td>positive</td>\n",
       "    </tr>\n",
       "    <tr>\n",
       "      <th>3</th>\n",
       "      <td>Basically there's a family where a little boy ...</td>\n",
       "      <td>negative</td>\n",
       "    </tr>\n",
       "    <tr>\n",
       "      <th>4</th>\n",
       "      <td>Petter Mattei's \"Love in the Time of Money\" is...</td>\n",
       "      <td>positive</td>\n",
       "    </tr>\n",
       "  </tbody>\n",
       "</table>\n",
       "</div>"
      ],
      "text/plain": [
       "                                              review sentiment\n",
       "0  One of the other reviewers has mentioned that ...  positive\n",
       "1  A wonderful little production. <br /><br />The...  positive\n",
       "2  I thought this was a wonderful way to spend ti...  positive\n",
       "3  Basically there's a family where a little boy ...  negative\n",
       "4  Petter Mattei's \"Love in the Time of Money\" is...  positive"
      ]
     },
     "execution_count": 10,
     "metadata": {},
     "output_type": "execute_result"
    }
   ],
   "source": [
    "imdb.head()"
   ]
  },
  {
   "cell_type": "code",
   "execution_count": 11,
   "id": "1ba46cc4",
   "metadata": {},
   "outputs": [],
   "source": [
    "# Load spaCy English model\n",
    "nlp = spacy.load(\"en_core_web_sm\")\n",
    "\n",
    "def clean_text(text):\n",
    "    # 1️⃣ Lowercase\n",
    "    text = text.lower()\n",
    "    \n",
    "    # 2️⃣ Remove HTML tags\n",
    "    text = BeautifulSoup(text, \"html.parser\").get_text()\n",
    "    \n",
    "    # 3️⃣ Remove punctuation & non-alphabetic characters\n",
    "    text = re.sub(r\"[^a-z\\s]\", \"\", text)\n",
    "    \n",
    "    # 4️⃣ Process with spaCy\n",
    "    doc = nlp(text)\n",
    "    \n",
    "    # 5️⃣ Remove stopwords & lemmatize\n",
    "    tokens = [token.lemma_ for token in doc if not token.is_stop]\n",
    "    \n",
    "    # 6️⃣ Join tokens back into a single string\n",
    "    cleaned_text = \" \".join(tokens)\n",
    "    \n",
    "    return cleaned_text\n"
   ]
  },
  {
   "cell_type": "code",
   "execution_count": 12,
   "id": "0e7dfb9b",
   "metadata": {},
   "outputs": [],
   "source": [
    "def clean_text_pipe(docs):\n",
    "    for doc in nlp.pipe(docs, batch_size=50):\n",
    "        tokens = [token.lemma_ for token in doc if not token.is_stop and token.is_alpha]\n",
    "        yield \" \".join(tokens)\n",
    "\n",
    "imdb['cleaned_review'] = list(clean_text_pipe(imdb['review']))\n"
   ]
  },
  {
   "cell_type": "code",
   "execution_count": 13,
   "id": "a4544a15",
   "metadata": {},
   "outputs": [
    {
     "data": {
      "text/html": [
       "<div>\n",
       "<style scoped>\n",
       "    .dataframe tbody tr th:only-of-type {\n",
       "        vertical-align: middle;\n",
       "    }\n",
       "\n",
       "    .dataframe tbody tr th {\n",
       "        vertical-align: top;\n",
       "    }\n",
       "\n",
       "    .dataframe thead th {\n",
       "        text-align: right;\n",
       "    }\n",
       "</style>\n",
       "<table border=\"1\" class=\"dataframe\">\n",
       "  <thead>\n",
       "    <tr style=\"text-align: right;\">\n",
       "      <th></th>\n",
       "      <th>review</th>\n",
       "      <th>sentiment</th>\n",
       "      <th>cleaned_review</th>\n",
       "    </tr>\n",
       "  </thead>\n",
       "  <tbody>\n",
       "    <tr>\n",
       "      <th>0</th>\n",
       "      <td>One of the other reviewers has mentioned that ...</td>\n",
       "      <td>positive</td>\n",
       "      <td>reviewer mention watch Oz episode hook right e...</td>\n",
       "    </tr>\n",
       "    <tr>\n",
       "      <th>1</th>\n",
       "      <td>A wonderful little production. &lt;br /&gt;&lt;br /&gt;The...</td>\n",
       "      <td>positive</td>\n",
       "      <td>wonderful little production br filming techniq...</td>\n",
       "    </tr>\n",
       "    <tr>\n",
       "      <th>2</th>\n",
       "      <td>I thought this was a wonderful way to spend ti...</td>\n",
       "      <td>positive</td>\n",
       "      <td>think wonderful way spend time hot summer week...</td>\n",
       "    </tr>\n",
       "    <tr>\n",
       "      <th>3</th>\n",
       "      <td>Basically there's a family where a little boy ...</td>\n",
       "      <td>negative</td>\n",
       "      <td>basically family little boy Jake think zombie ...</td>\n",
       "    </tr>\n",
       "    <tr>\n",
       "      <th>4</th>\n",
       "      <td>Petter Mattei's \"Love in the Time of Money\" is...</td>\n",
       "      <td>positive</td>\n",
       "      <td>Petter Mattei love Time money visually stunnin...</td>\n",
       "    </tr>\n",
       "  </tbody>\n",
       "</table>\n",
       "</div>"
      ],
      "text/plain": [
       "                                              review sentiment  \\\n",
       "0  One of the other reviewers has mentioned that ...  positive   \n",
       "1  A wonderful little production. <br /><br />The...  positive   \n",
       "2  I thought this was a wonderful way to spend ti...  positive   \n",
       "3  Basically there's a family where a little boy ...  negative   \n",
       "4  Petter Mattei's \"Love in the Time of Money\" is...  positive   \n",
       "\n",
       "                                      cleaned_review  \n",
       "0  reviewer mention watch Oz episode hook right e...  \n",
       "1  wonderful little production br filming techniq...  \n",
       "2  think wonderful way spend time hot summer week...  \n",
       "3  basically family little boy Jake think zombie ...  \n",
       "4  Petter Mattei love Time money visually stunnin...  "
      ]
     },
     "execution_count": 13,
     "metadata": {},
     "output_type": "execute_result"
    }
   ],
   "source": [
    "imdb.head()"
   ]
  },
  {
   "cell_type": "markdown",
   "id": "caa5cea4-f6e0-4aaf-a1b7-f24269692638",
   "metadata": {},
   "source": [
    "### Working with the cleaned version after saving "
   ]
  },
  {
   "cell_type": "code",
   "execution_count": 17,
   "id": "0019907a-247a-4e70-a636-dfc89eddbc95",
   "metadata": {},
   "outputs": [],
   "source": [
    "imdb_cleaned = pd.read_pickle(\"imdb_cleaned.pkl\")"
   ]
  },
  {
   "cell_type": "code",
   "execution_count": 18,
   "id": "d993297e-8fa6-44c2-bbad-4e3e2595249b",
   "metadata": {},
   "outputs": [
    {
     "data": {
      "text/html": [
       "<div>\n",
       "<style scoped>\n",
       "    .dataframe tbody tr th:only-of-type {\n",
       "        vertical-align: middle;\n",
       "    }\n",
       "\n",
       "    .dataframe tbody tr th {\n",
       "        vertical-align: top;\n",
       "    }\n",
       "\n",
       "    .dataframe thead th {\n",
       "        text-align: right;\n",
       "    }\n",
       "</style>\n",
       "<table border=\"1\" class=\"dataframe\">\n",
       "  <thead>\n",
       "    <tr style=\"text-align: right;\">\n",
       "      <th></th>\n",
       "      <th>review</th>\n",
       "      <th>sentiment</th>\n",
       "      <th>cleaned_review</th>\n",
       "    </tr>\n",
       "  </thead>\n",
       "  <tbody>\n",
       "    <tr>\n",
       "      <th>0</th>\n",
       "      <td>One of the other reviewers has mentioned that ...</td>\n",
       "      <td>positive</td>\n",
       "      <td>reviewer mention watch Oz episode hook right e...</td>\n",
       "    </tr>\n",
       "    <tr>\n",
       "      <th>1</th>\n",
       "      <td>A wonderful little production. &lt;br /&gt;&lt;br /&gt;The...</td>\n",
       "      <td>positive</td>\n",
       "      <td>wonderful little production br filming techniq...</td>\n",
       "    </tr>\n",
       "    <tr>\n",
       "      <th>2</th>\n",
       "      <td>I thought this was a wonderful way to spend ti...</td>\n",
       "      <td>positive</td>\n",
       "      <td>think wonderful way spend time hot summer week...</td>\n",
       "    </tr>\n",
       "    <tr>\n",
       "      <th>3</th>\n",
       "      <td>Basically there's a family where a little boy ...</td>\n",
       "      <td>negative</td>\n",
       "      <td>basically family little boy Jake think zombie ...</td>\n",
       "    </tr>\n",
       "    <tr>\n",
       "      <th>4</th>\n",
       "      <td>Petter Mattei's \"Love in the Time of Money\" is...</td>\n",
       "      <td>positive</td>\n",
       "      <td>Petter Mattei love Time money visually stunnin...</td>\n",
       "    </tr>\n",
       "  </tbody>\n",
       "</table>\n",
       "</div>"
      ],
      "text/plain": [
       "                                              review sentiment  \\\n",
       "0  One of the other reviewers has mentioned that ...  positive   \n",
       "1  A wonderful little production. <br /><br />The...  positive   \n",
       "2  I thought this was a wonderful way to spend ti...  positive   \n",
       "3  Basically there's a family where a little boy ...  negative   \n",
       "4  Petter Mattei's \"Love in the Time of Money\" is...  positive   \n",
       "\n",
       "                                      cleaned_review  \n",
       "0  reviewer mention watch Oz episode hook right e...  \n",
       "1  wonderful little production br filming techniq...  \n",
       "2  think wonderful way spend time hot summer week...  \n",
       "3  basically family little boy Jake think zombie ...  \n",
       "4  Petter Mattei love Time money visually stunnin...  "
      ]
     },
     "execution_count": 18,
     "metadata": {},
     "output_type": "execute_result"
    }
   ],
   "source": [
    "imdb_cleaned.head()"
   ]
  },
  {
   "cell_type": "code",
   "execution_count": 19,
   "id": "3540738e-1c5e-4926-bdc8-7b15ddb39c7d",
   "metadata": {},
   "outputs": [],
   "source": [
    "#remove the uncleaned column\n",
    "imdb_cleaned.drop(columns=[\"review\"],inplace=True)\n",
    "imdb_cleaned=imdb_cleaned[[\"cleaned_review\",\"sentiment\"]]"
   ]
  },
  {
   "cell_type": "code",
   "execution_count": 20,
   "id": "d6067c30-02b3-44b2-9e9f-21d7cc3c11a1",
   "metadata": {},
   "outputs": [
    {
     "data": {
      "text/html": [
       "<div>\n",
       "<style scoped>\n",
       "    .dataframe tbody tr th:only-of-type {\n",
       "        vertical-align: middle;\n",
       "    }\n",
       "\n",
       "    .dataframe tbody tr th {\n",
       "        vertical-align: top;\n",
       "    }\n",
       "\n",
       "    .dataframe thead th {\n",
       "        text-align: right;\n",
       "    }\n",
       "</style>\n",
       "<table border=\"1\" class=\"dataframe\">\n",
       "  <thead>\n",
       "    <tr style=\"text-align: right;\">\n",
       "      <th></th>\n",
       "      <th>cleaned_review</th>\n",
       "      <th>sentiment</th>\n",
       "    </tr>\n",
       "  </thead>\n",
       "  <tbody>\n",
       "    <tr>\n",
       "      <th>0</th>\n",
       "      <td>reviewer mention watch Oz episode hook right e...</td>\n",
       "      <td>positive</td>\n",
       "    </tr>\n",
       "    <tr>\n",
       "      <th>1</th>\n",
       "      <td>wonderful little production br filming techniq...</td>\n",
       "      <td>positive</td>\n",
       "    </tr>\n",
       "    <tr>\n",
       "      <th>2</th>\n",
       "      <td>think wonderful way spend time hot summer week...</td>\n",
       "      <td>positive</td>\n",
       "    </tr>\n",
       "    <tr>\n",
       "      <th>3</th>\n",
       "      <td>basically family little boy Jake think zombie ...</td>\n",
       "      <td>negative</td>\n",
       "    </tr>\n",
       "    <tr>\n",
       "      <th>4</th>\n",
       "      <td>Petter Mattei love Time money visually stunnin...</td>\n",
       "      <td>positive</td>\n",
       "    </tr>\n",
       "  </tbody>\n",
       "</table>\n",
       "</div>"
      ],
      "text/plain": [
       "                                      cleaned_review sentiment\n",
       "0  reviewer mention watch Oz episode hook right e...  positive\n",
       "1  wonderful little production br filming techniq...  positive\n",
       "2  think wonderful way spend time hot summer week...  positive\n",
       "3  basically family little boy Jake think zombie ...  negative\n",
       "4  Petter Mattei love Time money visually stunnin...  positive"
      ]
     },
     "execution_count": 20,
     "metadata": {},
     "output_type": "execute_result"
    }
   ],
   "source": [
    "imdb_cleaned.head()"
   ]
  },
  {
   "cell_type": "markdown",
   "id": "260d4d42-cc4b-4eb7-b8d1-1f0e33a0a067",
   "metadata": {},
   "source": [
    "### EDA"
   ]
  },
  {
   "cell_type": "code",
   "execution_count": 35,
   "id": "ec62296f-764e-4577-8bc3-77e6fbb69c47",
   "metadata": {},
   "outputs": [
    {
     "data": {
      "image/png": "[encoded data removed]",
      "text/plain": [
       "<Figure size 640x480 with 1 Axes>"
      ]
     },
     "metadata": {},
     "output_type": "display_data"
    }
   ],
   "source": [
    "#sentiment distribution\n",
    "sns.countplot(data = imdb_cleaned, x=\"sentiment\",palette=\"mako\")\n",
    "plt.title(\"sentiment distribution\")\n",
    "plt.show();"
   ]
  },
  {
   "cell_type": "code",
   "execution_count": 38,
   "id": "98672180-2bca-49c1-a743-32ef9a6ae373",
   "metadata": {},
   "outputs": [
    {
     "data": {
      "image/png": "[encoded data removed]",
      "text/plain": [
       "<Figure size 640x480 with 1 Axes>"
      ]
     },
     "metadata": {},
     "output_type": "display_data"
    }
   ],
   "source": [
    "#review length analysis\n",
    "imdb_cleaned['review_length'] = imdb_cleaned['cleaned_review'].apply(lambda x: len(x.split()))\n",
    "sns.histplot(imdb_cleaned['review_length'], bins=50, kde=True, color=\"darkblue\")\n",
    "plt.title('Distribution of Review Lengths')\n",
    "plt.show()"
   ]
  },
  {
   "cell_type": "code",
   "execution_count": 40,
   "id": "e883024e-6138-4e31-bd2a-74a72e9b0c4a",
   "metadata": {},
   "outputs": [
    {
     "name": "stdout",
     "output_type": "stream",
     "text": [
      "Most common positive words: [('film', 48825), ('movie', 43203), ('good', 21718), ('like', 19783), ('time', 15502), ('great', 13773), ('character', 13681), ('story', 13511), ('see', 12799), ('watch', 12446)]\n",
      "Most common negative words: [('movie', 55936), ('film', 42809), ('like', 23683), ('bad', 20881), ('good', 17504), ('watch', 14401), ('time', 14255), ('character', 13868), ('think', 11807), ('see', 11466)]\n"
     ]
    }
   ],
   "source": [
    "#word frequency (most common words per sentiment)\n",
    "from collections import Counter\n",
    "\n",
    "pos_words = \" \".join(imdb_cleaned[imdb_cleaned['sentiment']=='positive']['cleaned_review']).split()\n",
    "neg_words = \" \".join(imdb_cleaned[imdb_cleaned['sentiment']=='negative']['cleaned_review']).split()\n",
    "\n",
    "print(\"Most common positive words:\", Counter(pos_words).most_common(10))\n",
    "print(\"Most common negative words:\", Counter(neg_words).most_common(10))"
   ]
  },
  {
   "cell_type": "code",
   "execution_count": 52,
   "id": "f7f97bcf-511b-4492-9189-a4c8787309ef",
   "metadata": {},
   "outputs": [
    {
     "data": {
      "image/png": "[encoded data removed]",
      "text/plain": [
       "<Figure size 1000x800 with 1 Axes>"
      ]
     },
     "metadata": {},
     "output_type": "display_data"
    }
   ],
   "source": [
    "# Step 1: Get most common words\n",
    "pos_common = Counter(pos_words).most_common(10)\n",
    "neg_common = Counter(neg_words).most_common(10)\n",
    "\n",
    "# Step 2: Convert to DataFrame\n",
    "df_pos = pd.DataFrame(pos_common, columns=['word', 'count'])\n",
    "df_pos['sentiment'] = 'positive'\n",
    "\n",
    "df_neg = pd.DataFrame(neg_common, columns=['word', 'count'])\n",
    "df_neg['sentiment'] = 'negative'\n",
    "\n",
    "df_bubble = pd.concat([df_pos, df_neg], ignore_index=True)\n",
    "\n",
    "# Step 3: Bubble chart\n",
    "palette = {\n",
    "    'positive': '#2ecc71', \n",
    "    'negative': '#e74c3c'   \n",
    "}\n",
    "\n",
    "plt.figure(figsize=(10, 8))\n",
    "sns.scatterplot(\n",
    "    data=df_bubble,\n",
    "    x=\"word\",\n",
    "    y=\"count\",\n",
    "    size=\"count\",\n",
    "    hue=\"sentiment\",\n",
    "    sizes=(100, 2000),\n",
    "    alpha=0.7,\n",
    "    edgecolor=\"b\",\n",
    "    linewidth=0.5,\n",
    "    palette= palette\n",
    ")\n",
    "\n",
    "plt.title(\"Most Common Words in Positive & Negative Reviews\")\n",
    "plt.xticks(rotation=45)\n",
    "plt.tight_layout()\n",
    "plt.show()"
   ]
  },
  {
   "cell_type": "markdown",
   "id": "172d0614-129b-4061-aa9d-34d43d02fa1e",
   "metadata": {},
   "source": [
    "### Modelling and vectorization"
   ]
  },
  {
   "cell_type": "code",
   "execution_count": 58,
   "id": "8f1c1634-0f52-478d-a4c8-0b5b1ec481f1",
   "metadata": {},
   "outputs": [],
   "source": [
    "#makeing a copy of the original set to work on\n",
    "imdb_model = imdb_cleaned.copy()\n",
    "\n",
    "#feature variable\n",
    "X = imdb_model[\"cleaned_review\"]\n",
    "#target variable\n",
    "y = imdb_model[\"sentiment\"]\n",
    "\n",
    "#splitting the data into train and test sets'\n",
    "X_train,X_test,y_train,y_test= train_test_split(X,y, test_size = 0.2, random_state = 42, stratify= y)"
   ]
  },
  {
   "cell_type": "code",
   "execution_count": 60,
   "id": "d467c54b-59ae-4750-818c-ede9e24cc326",
   "metadata": {},
   "outputs": [],
   "source": [
    "#converting text using TF-IDF\n",
    "tfidf = TfidfVectorizer(max_features = 5000, ngram_range= (1,2))\n",
    "#fit on train data and transform\n",
    "X_train_tfidf = tfidf.fit_transform(X_train)\n",
    "X_test_tfidf = tfidf.transform(X_test)"
   ]
  },
  {
   "cell_type": "code",
   "execution_count": 64,
   "id": "e8fc4a14-22f6-4638-8d09-1481b5ccccb3",
   "metadata": {},
   "outputs": [],
   "source": [
    "#training models and evaluation\n",
    "def train_and_evaluate(models, X_train, X_test, y_train, y_test):\n",
    "    results = []\n",
    "\n",
    "    for name, model in models.items():\n",
    "        print(f\"Training {name}...\")\n",
    "        model.fit(X_train, y_train)\n",
    "        y_pred = model.predict(X_test)\n",
    "\n",
    "        acc = accuracy_score(y_test, y_pred)\n",
    "        prec = precision_score(y_test, y_pred, pos_label='positive')\n",
    "        rec = recall_score(y_test, y_pred, pos_label='positive')\n",
    "        f1 = f1_score(y_test, y_pred, pos_label='positive')\n",
    "\n",
    "        results.append({\n",
    "            \"Model\": name,\n",
    "            \"Accuracy\": acc,\n",
    "            \"Precision\": prec,\n",
    "            \"Recall\": rec,\n",
    "            \"F1 Score\": f1\n",
    "        })\n",
    "\n",
    "        print(f\"\\n{name} Classification Report:\")\n",
    "        print(classification_report(y_test, y_pred))\n",
    "\n",
    "    results_df = pd.DataFrame(results)\n",
    "    return results_df\n"
   ]
  },
  {
   "cell_type": "code",
   "execution_count": 66,
   "id": "e6bea11a-57b5-4aa2-b8e6-1a10be78376d",
   "metadata": {},
   "outputs": [
    {
     "name": "stdout",
     "output_type": "stream",
     "text": [
      "Training Logistic Regression...\n",
      "\n",
      "Logistic Regression Classification Report:\n",
      "              precision    recall  f1-score   support\n",
      "\n",
      "    negative       0.89      0.87      0.88      4940\n",
      "    positive       0.87      0.90      0.89      4977\n",
      "\n",
      "    accuracy                           0.88      9917\n",
      "   macro avg       0.88      0.88      0.88      9917\n",
      "weighted avg       0.88      0.88      0.88      9917\n",
      "\n",
      "Training Naive Bayes...\n",
      "\n",
      "Naive Bayes Classification Report:\n",
      "              precision    recall  f1-score   support\n",
      "\n",
      "    negative       0.86      0.83      0.85      4940\n",
      "    positive       0.84      0.87      0.85      4977\n",
      "\n",
      "    accuracy                           0.85      9917\n",
      "   macro avg       0.85      0.85      0.85      9917\n",
      "weighted avg       0.85      0.85      0.85      9917\n",
      "\n",
      "Training Linear SVM...\n",
      "\n",
      "Linear SVM Classification Report:\n",
      "              precision    recall  f1-score   support\n",
      "\n",
      "    negative       0.88      0.88      0.88      4940\n",
      "    positive       0.88      0.88      0.88      4977\n",
      "\n",
      "    accuracy                           0.88      9917\n",
      "   macro avg       0.88      0.88      0.88      9917\n",
      "weighted avg       0.88      0.88      0.88      9917\n",
      "\n",
      "Training Random Forest...\n",
      "\n",
      "Random Forest Classification Report:\n",
      "              precision    recall  f1-score   support\n",
      "\n",
      "    negative       0.84      0.84      0.84      4940\n",
      "    positive       0.85      0.84      0.85      4977\n",
      "\n",
      "    accuracy                           0.84      9917\n",
      "   macro avg       0.84      0.84      0.84      9917\n",
      "weighted avg       0.84      0.84      0.84      9917\n",
      "\n",
      "                 Model  Accuracy  Precision    Recall  F1 Score\n",
      "0  Logistic Regression  0.884138   0.874120  0.898533  0.886159\n",
      "1          Naive Bayes  0.851266   0.839604  0.869801  0.854436\n",
      "2           Linear SVM  0.880004   0.877567  0.884268  0.880905\n",
      "3        Random Forest  0.844610   0.845674  0.844485  0.845079\n"
     ]
    }
   ],
   "source": [
    "models = {\n",
    "    \"Logistic Regression\": LogisticRegression(max_iter=1000),\n",
    "    \"Naive Bayes\": MultinomialNB(),\n",
    "    \"Linear SVM\": LinearSVC(),\n",
    "    \"Random Forest\": RandomForestClassifier(n_estimators=100, random_state=42)\n",
    "}\n",
    "\n",
    "results_df = train_and_evaluate(models, X_train_tfidf, X_test_tfidf, y_train, y_test)\n",
    "print(results_df)\n"
   ]
  },
  {
   "cell_type": "code",
   "execution_count": 68,
   "id": "b097f51c-83cc-4269-b1cf-695f2f645669",
   "metadata": {},
   "outputs": [
    {
     "data": {
      "image/png": "[encoded data removed]",
      "text/plain": [
       "<Figure size 1000x600 with 1 Axes>"
      ]
     },
     "metadata": {},
     "output_type": "display_data"
    }
   ],
   "source": [
    "#model performance comparision\n",
    "results_melted = results_df.melt(id_vars=\"Model\", \n",
    "                                  value_vars=[\"Accuracy\", \"Precision\", \"Recall\", \"F1 Score\"], \n",
    "                                  var_name=\"Metric\", \n",
    "                                  value_name=\"Score\")\n",
    "\n",
    "plt.figure(figsize=(10,6))\n",
    "sns.barplot(data=results_melted, x=\"Model\", y=\"Score\", hue=\"Metric\", palette=\"icefire\")\n",
    "plt.title(\"Model Performance Comparison\")\n",
    "plt.ylim(0.8, 0.9)  # zoom into range\n",
    "plt.legend(title=\"Metric\")\n",
    "plt.show()"
   ]
  },
  {
   "cell_type": "markdown",
   "id": "74b2d2ad-10f6-4f30-b0ee-93de7bfe2f16",
   "metadata": {},
   "source": [
    "### Observations:\n",
    "1. Logistic Regression achieved the highest accuracy (88.41%) and F1-score (0.886), making it the best-performing model overall.\n",
    "\n",
    "2. Linear SVM performed almost as well as Logistic Regression (88.00% accuracy) with balanced precision and recall, showing strong generalization.\n",
    "\n",
    "3. Naive Bayes achieved a slightly lower accuracy (85.13%) but still performed well given its simplicity and speed.\n",
    "\n",
    "4. Random Forest had the lowest accuracy (84.46%), suggesting that tree-based models might not be as effective for this TF-IDF-based text classification task without further tuning.\n",
    "\n",
    "5. Across all models, performance was balanced across positive and negative sentiment classes, indicating no major bias towards either class."
   ]
  },
  {
   "cell_type": "markdown",
   "id": "c687ca15-3307-42c9-af94-3ceb5538dad8",
   "metadata": {},
   "source": [
    "### Overall conclusions:\n",
    "* Logistic Regression and Linear SVM are the top choices for this IMDB sentiment classification task.\n",
    "\n",
    "* For production use, Logistic Regression is recommended due to its slightly better overall metrics and training efficiency.\n",
    "\n"
   ]
  },
  {
   "cell_type": "markdown",
   "id": "3e8a6e6e-20fa-4786-9326-f21f149378a2",
   "metadata": {},
   "source": [
    "### Saving the best model for deployment"
   ]
  },
  {
   "cell_type": "code",
   "execution_count": 71,
   "id": "e2d44524-4a35-4aca-9e9f-560c9bb4a14f",
   "metadata": {},
   "outputs": [
    {
     "name": "stdout",
     "output_type": "stream",
     "text": [
      "✅ Best model 'Logistic Regression' and TF-IDF vectorizer saved successfully!\n"
     ]
    }
   ],
   "source": [
    "best_model_name = results_df.sort_values(by=\"Accuracy\", ascending=False).iloc[0][\"Model\"]\n",
    "best_model = models[best_model_name]\n",
    "\n",
    "# Save the model\n",
    "with open(\"best_model.pkl\", \"wb\") as f:\n",
    "    pickle.dump(best_model, f)\n",
    "\n",
    "# Save the TF-IDF vectorizer\n",
    "with open(\"tfidf_vectorizer.pkl\", \"wb\") as f:\n",
    "    pickle.dump(tfidf, f)\n",
    "\n",
    "print(f\"✅ Best model '{best_model_name}' and TF-IDF vectorizer saved successfully!\")"
   ]
  },
  {
   "cell_type": "code",
   "execution_count": 72,
   "id": "f25f5797-0cf6-4086-88d2-4fc17d01daf2",
   "metadata": {},
   "outputs": [
    {
     "name": "stdout",
     "output_type": "stream",
     "text": [
      "Prediction: positive\n"
     ]
    }
   ],
   "source": [
    "# Load the model\n",
    "with open(\"best_model.pkl\", \"rb\") as f:\n",
    "    loaded_model = pickle.load(f)\n",
    "\n",
    "# Load the vectorizer\n",
    "with open(\"tfidf_vectorizer.pkl\", \"rb\") as f:\n",
    "    loaded_vectorizer = pickle.load(f)\n",
    "\n",
    "# Test with a sample review\n",
    "sample_review = [\"The movie was absolutely fantastic, I loved every moment!\"]\n",
    "sample_tfidf = loaded_vectorizer.transform(sample_review)\n",
    "prediction = loaded_model.predict(sample_tfidf)\n",
    "\n",
    "print(\"Prediction:\", prediction[0])\n"
   ]
  },
  {
   "cell_type": "code",
   "execution_count": null,
   "id": "9b8c51dd-1fe1-4d4f-923b-3cb919876599",
   "metadata": {},
   "outputs": [],
   "source": []
  }
 ],
 "metadata": {
  "kernelspec": {
   "display_name": "base",
   "language": "python",
   "name": "base"
  },
  "language_info": {
   "codemirror_mode": {
    "name": "ipython",
    "version": 3
   },
   "file_extension": ".py",
   "mimetype": "text/x-python",
   "name": "python",
   "nbconvert_exporter": "python",
   "pygments_lexer": "ipython3",
   "version": "3.11.5"
  }
 },
 "nbformat": 4,
 "nbformat_minor": 5
}
